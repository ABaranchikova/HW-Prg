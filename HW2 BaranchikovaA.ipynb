{
 "cells": [
  {
   "cell_type": "markdown",
   "metadata": {},
   "source": [
    "# Задача 1 (2 балла)"
   ]
  },
  {
   "cell_type": "markdown",
   "metadata": {},
   "source": [
    "Чтение данных\n",
    "Прочитайте данные из файла spam.csv используя средства модуля pandas. В первом столбце пометка о роде письма (spam/ham). Будем считать, что все письма с пометкой spam лежать в первом классе, а остальные в нулевом. Во второй колонке текст сообщения. Отобразите таблицу в следующем виде"
   ]
  },
  {
   "cell_type": "code",
   "execution_count": 1,
   "metadata": {
    "collapsed": true
   },
   "outputs": [],
   "source": [
    "import pandas as pd"
   ]
  },
  {
   "cell_type": "markdown",
   "metadata": {},
   "source": [
    "Читаем файл."
   ]
  },
  {
   "cell_type": "code",
   "execution_count": 2,
   "metadata": {
    "collapsed": true,
    "scrolled": true
   },
   "outputs": [],
   "source": [
    "df = pd.read_csv('spam.csv', encoding='latin-1')"
   ]
  },
  {
   "cell_type": "markdown",
   "metadata": {},
   "source": [
    "Переименовываем колонки"
   ]
  },
  {
   "cell_type": "code",
   "execution_count": 3,
   "metadata": {
    "collapsed": true,
    "scrolled": true
   },
   "outputs": [],
   "source": [
    "df_renamed = df.rename(columns={\"v1\": \"class\", \"v2\": \"text\"})"
   ]
  },
  {
   "cell_type": "markdown",
   "metadata": {},
   "source": [
    "Удаляем пустые колонки"
   ]
  },
  {
   "cell_type": "code",
   "execution_count": 4,
   "metadata": {
    "collapsed": true,
    "scrolled": true
   },
   "outputs": [],
   "source": [
    "df_removed = df_renamed.drop(['Unnamed: 2', 'Unnamed: 3', 'Unnamed: 4'], axis=1)"
   ]
  },
  {
   "cell_type": "markdown",
   "metadata": {},
   "source": [
    "Создаем переменные, в которые вложено содержимое колонок"
   ]
  },
  {
   "cell_type": "code",
   "execution_count": 5,
   "metadata": {
    "collapsed": true
   },
   "outputs": [],
   "source": [
    "col_text = df_removed['text']\n",
    "col_class = df_removed['class']"
   ]
  },
  {
   "cell_type": "markdown",
   "metadata": {},
   "source": [
    "Создаем новый DataFrame, в которые добавляем колонки в нужной нам последовательности."
   ]
  },
  {
   "cell_type": "code",
   "execution_count": 6,
   "metadata": {
    "collapsed": true,
    "scrolled": true
   },
   "outputs": [],
   "source": [
    "data_set = {}\n",
    "df_new = pd.DataFrame(data = data_set)\n",
    "df_new = df_new.assign(text=col_text, clas=col_class)\n",
    "df_new_ren = df_new.rename(columns={\"clas\": \"class\"})"
   ]
  },
  {
   "cell_type": "markdown",
   "metadata": {},
   "source": [
    "Заменяем все записи ham на 0 и все записи spam на 1."
   ]
  },
  {
   "cell_type": "code",
   "execution_count": 7,
   "metadata": {
    "collapsed": true,
    "scrolled": true
   },
   "outputs": [],
   "source": [
    "import re\n",
    "no_spam = df_new_ren.replace(r'spam', '1')\n",
    "no_ham = no_spam.replace(r'ham', '0')\n",
    "df_1 = no_ham"
   ]
  },
  {
   "cell_type": "markdown",
   "metadata": {},
   "source": [
    "# Задача 2 (3 балла)"
   ]
  },
  {
   "cell_type": "markdown",
   "metadata": {},
   "source": [
    "Предобработка\n",
    "Перевидите все буквы в нижний регистр.\n",
    "С помошью регулярных выражений почистите текст отставляя только слова (удалите знаки припенания, а также все числа можно заменить на N и т.п.).\n",
    "Оформите это в виде функции, которая принимает на вход некоторый список текстов и возвращает, соответственно, предобработанный список текстов.\n",
    "Преобразуйте таблицу с данными, так чтобы в ней содержались предобработанные тексты (далее мы будем работать только с ними)."
   ]
  },
  {
   "cell_type": "code",
   "execution_count": 8,
   "metadata": {
    "collapsed": true,
    "scrolled": true
   },
   "outputs": [],
   "source": [
    "import re\n",
    "\n",
    "def normalize(i):\n",
    "    i = i.lower()\n",
    "    i = re.sub('\\d+', 'N', i)\n",
    "    string = re.findall('\\s\\w+', i)\n",
    "    return ' '.join(string)\n",
    "\n",
    "def predpr(dataset):\n",
    "    for i in dataset.text:\n",
    "        dataset.text = dataset.text.replace(i, normalize(i))\n",
    "    return dataset\n",
    "df_predpr = predpr(df_1)"
   ]
  },
  {
   "cell_type": "raw",
   "metadata": {
    "collapsed": true,
    "scrolled": true
   },
   "source": [
    "# Рабочий мать твою кусок кода. \n",
    "#То есть когда все сверху почему-то слетает, нужно скопировать отсюда и вставить наверх, переименовав переменные.\n",
    "import re\n",
    "def normalize(i):\n",
    "    i = i.lower()\n",
    "    i = re.sub('\\d+', 'N', i)\n",
    "    string = re.findall('\\s\\w+', i)\n",
    "    return ''.join(string)\n",
    "for n in df_1.text:\n",
    "    df_1.text = df_1.text.replace(n, normalize(n))"
   ]
  },
  {
   "cell_type": "markdown",
   "metadata": {},
   "source": [
    "def predpr(text):\n",
    "    def normalize(i):\n",
    "        i = i.lower()\n",
    "        i = re.sub('\\d+', 'N', i)\n",
    "        string = re.findall('\\s\\w+', i)\n",
    "        return ''.join(string)\n",
    "    for n in text:\n",
    "        result = text.replace(n, normalize(n))\n",
    "    return result\n",
    "df_predpr = predpr(df_1)"
   ]
  },
  {
   "cell_type": "markdown",
   "metadata": {},
   "source": [
    "# Задача 3 (3 балла)"
   ]
  },
  {
   "cell_type": "markdown",
   "metadata": {
    "collapsed": true
   },
   "source": [
    "Формирование словаря\n",
    "Сформируйте словарь, ключами которого являются слова встречающееся в тексте, а значениями -- колличество раз, которое они встретились в корпусе текста.\n",
    "Оформите это в виде функции, которая принимает на вход список текстов и возвращает словарь.\n",
    "Какой размер словаря вы получили?"
   ]
  },
  {
   "cell_type": "markdown",
   "metadata": {},
   "source": [
    "Создаем функцию, которая создает словарь. Но функция не проходит по всем строкам таблицы, поэтому следом за ней следует цикл, которые заставляет ее проходить по везде и считать слова, объединяя словари.\n",
    "Длина: 7421"
   ]
  },
  {
   "cell_type": "raw",
   "metadata": {},
   "source": [
    "def make_dict(text):\n",
    "    string = str(text)\n",
    "    words = re.findall('[a-z]+', string)\n",
    "    dct = {}\n",
    "    for word in words:\n",
    "        if word not in dct:\n",
    "            dct[word] = 1\n",
    "        else:\n",
    "            dct[word] += 1\n",
    "    return dct\n",
    "d = {}\n",
    "for i in df_predpr.text:\n",
    "    d1 = make_dict(i)\n",
    "    for k, v in d1.items():\n",
    "        if d.get(k) is not None:\n",
    "            d[k] += v\n",
    "        else:\n",
    "            d[k] = v\n",
    "#print(d)\n",
    "len(d)"
   ]
  },
  {
   "cell_type": "code",
   "execution_count": 9,
   "metadata": {},
   "outputs": [
    {
     "data": {
      "text/plain": [
       "7490"
      ]
     },
     "execution_count": 9,
     "metadata": {},
     "output_type": "execute_result"
    }
   ],
   "source": [
    "def make_dict(text):\n",
    "    dct = {}\n",
    "    for i in text:\n",
    "        for d in i.split():\n",
    "            if d not in dct:\n",
    "                dct[d] = 1\n",
    "            else: dct[d] += 1\n",
    "    return dct\n",
    "        \n",
    "my_dct = make_dict(df_predpr['text'])\n",
    "len(my_dct)"
   ]
  },
  {
   "cell_type": "markdown",
   "metadata": {},
   "source": [
    "# Задача 4 (2 балла)"
   ]
  },
  {
   "cell_type": "markdown",
   "metadata": {},
   "source": [
    "Удаление стоп-слов\n",
    "Отсортируйте слова по убыванию частоты их встречаемости в текстах.\n",
    "С помощью модуля matplotlib.pyplot постройте график частот встречаемости слов в тексте.\n",
    "Распечатайте топ-10 слов и их частоты.\n",
    "Какие слова чаще всего встречаются в тексте? Значимые ли это слова?"
   ]
  },
  {
   "cell_type": "code",
   "execution_count": 10,
   "metadata": {
    "collapsed": true
   },
   "outputs": [],
   "source": [
    "#создаем отсортированный лист.\n",
    "sorted_lst = sorted(my_dct.items(), key = lambda x: x[1], reverse=True)"
   ]
  },
  {
   "cell_type": "markdown",
   "metadata": {},
   "source": [
    "Рисуем график частотности слов. Какие именно слова появляются с какой частотой на нем не видно, но видно, что, в целом, все слова более-менее одинаково встречаются."
   ]
  },
  {
   "cell_type": "code",
   "execution_count": 11,
   "metadata": {
    "scrolled": true
   },
   "outputs": [
    {
     "data": {
      "text/plain": [
       "[<matplotlib.lines.Line2D at 0x2019aa1b2e8>]"
      ]
     },
     "execution_count": 11,
     "metadata": {},
     "output_type": "execute_result"
    },
    {
     "data": {
      "image/png": "[encoded data removed]",
      "text/plain": [
       "<matplotlib.figure.Figure at 0x2019a4b89e8>"
      ]
     },
     "metadata": {},
     "output_type": "display_data"
    }
   ],
   "source": [
    "%matplotlib inline\n",
    "import matplotlib.pyplot as plt\n",
    "import numpy as np\n",
    "l2 = []\n",
    "for i in my_dct.values():\n",
    "    l2.append(int(i))\n",
    "plt.figure(figsize=(9, 9))\n",
    "plt.plot(l2)\n"
   ]
  },
  {
   "cell_type": "markdown",
   "metadata": {},
   "source": [
    "Печатаем наш отсортированный список, точнее, первые десять:"
   ]
  },
  {
   "cell_type": "code",
   "execution_count": 12,
   "metadata": {},
   "outputs": [
    {
     "name": "stdout",
     "output_type": "stream",
     "text": [
      "[('i', 2334), ('to', 2236), ('you', 2087), ('N', 1799), ('a', 1406), ('the', 1283), ('u', 1084), ('and', 947), ('in', 869), ('is', 867)]\n"
     ]
    }
   ],
   "source": [
    "print (sorted_lst[:10])"
   ]
  },
  {
   "cell_type": "markdown",
   "metadata": {},
   "source": [
    "В тексте чаще всего встречаются местоимения, предлоги и артикли. Это не значимые слова - скорее всего они так же часто будут встречаться в любом другом тексте."
   ]
  },
  {
   "cell_type": "markdown",
   "metadata": {},
   "source": [
    "# Задача 5 (5 баллов)"
   ]
  },
  {
   "cell_type": "markdown",
   "metadata": {},
   "source": [
    "Функциия предобработки и удаление стоп-слов.\n",
    "Для удаления стоп-слов можно использовать модуль nltk. Импортируйте stopwords из nltk.corpus, далее чтобы получить список английских стоп-слов нужно сделать stopwords.words('english').\n",
    "Перепишите функцию предобрабитки так, чтобы она на вход принимала список текстов и список стоп-слов, чистела текст (в том числе удаляла стоп-слова), возвращала список предобработанных текстов.\n",
    "Преобразуйте таблицу с данными, так чтобы в ней содержались новые предобработанные тексты (далее мы будем работать только с ними).\n",
    "Сформируйте словарь.\n",
    "Постройте график частот встречаемости слов в тексте.\n",
    "Распечатайте топ-10 слов и их частоты.\n",
    "Какой размер словаря вы получили теперь? Остались ли ещё высокочастотные неинформативные слова? Что это за слова? Добавте их в список стоп-слов и повторите процедуру."
   ]
  },
  {
   "cell_type": "code",
   "execution_count": 13,
   "metadata": {
    "collapsed": true
   },
   "outputs": [],
   "source": [
    "#импортируем список стоп-слов, ура\n",
    "import nltk\n",
    "from nltk.corpus import stopwords\n",
    "stop_w = stopwords.words('english')"
   ]
  },
  {
   "cell_type": "code",
   "execution_count": 14,
   "metadata": {
    "collapsed": true
   },
   "outputs": [],
   "source": [
    "def normalize(i):\n",
    "    i = i.lower()\n",
    "    i = re.sub('\\d+', 'N', i)\n",
    "    string = re.findall('\\s\\w+', i)\n",
    "    return ' '.join(string)"
   ]
  },
  {
   "cell_type": "code",
   "execution_count": 15,
   "metadata": {
    "collapsed": true
   },
   "outputs": [],
   "source": [
    "def predpr_stw(dataset, stop_w):\n",
    "    result = []\n",
    "    for i in dataset.text:\n",
    "        i = i.replace(i, normalize(i))      \n",
    "        lst_w = i.split(' ')\n",
    "        result.append(' '.join([word for word in lst_w if (word not in stop_w)]))\n",
    "    return result\n",
    "\n",
    "df_stw = predpr_stw(df_1, stop_w)"
   ]
  },
  {
   "cell_type": "markdown",
   "metadata": {},
   "source": [
    "Определяем длину нашего нового словаря, в котором удалены стоп-слова.\n",
    "Длина: 7277 - на 200 слов короче!"
   ]
  },
  {
   "cell_type": "code",
   "execution_count": 16,
   "metadata": {},
   "outputs": [
    {
     "data": {
      "text/plain": [
       "7277"
      ]
     },
     "execution_count": 16,
     "metadata": {},
     "output_type": "execute_result"
    }
   ],
   "source": [
    "dct_stw = make_dict(df_stw)\n",
    "len(dct_stw)"
   ]
  },
  {
   "cell_type": "markdown",
   "metadata": {},
   "source": [
    "Сортируем новый словарь по алфавиту"
   ]
  },
  {
   "cell_type": "code",
   "execution_count": 17,
   "metadata": {
    "collapsed": true
   },
   "outputs": [],
   "source": [
    "sorted_lst_1 = sorted(dct_stw.items(), key = lambda x: x[1], reverse=True)"
   ]
  },
  {
   "cell_type": "markdown",
   "metadata": {},
   "source": [
    "Теперь видно, что у нас остались более осмысленные слова."
   ]
  },
  {
   "cell_type": "code",
   "execution_count": 18,
   "metadata": {},
   "outputs": [
    {
     "name": "stdout",
     "output_type": "stream",
     "text": [
      "[('n', 2498), ('u', 1084), ('call', 561), ('get', 368), ('ur', 365), ('å', 293), ('go', 275), ('know', 261), ('free', 243), ('like', 239)]\n"
     ]
    }
   ],
   "source": [
    "print (sorted_lst_1[:10])"
   ]
  },
  {
   "cell_type": "markdown",
   "metadata": {
    "collapsed": true
   },
   "source": [
    "Но все равно в этом списке есть еще неинформативные слова. Добавим их в список стоп-слов и прогоним еще раз очистку.\n",
    "Наш список сократился на 5 слов, ура."
   ]
  },
  {
   "cell_type": "code",
   "execution_count": 19,
   "metadata": {
    "collapsed": true
   },
   "outputs": [],
   "source": [
    "new_stop_w = ['n', 'u', 'ur', 'å', 'like']\n",
    "stop_w.extend(new_stop_w)"
   ]
  },
  {
   "cell_type": "markdown",
   "metadata": {},
   "source": [
    "# Задача 6 (5 баллов). Удаление низкочастотных слов"
   ]
  },
  {
   "cell_type": "markdown",
   "metadata": {},
   "source": [
    "По сформированому на предыдущем шаге словарю, посмотрите какой процент слов встречается больше одного раза. Нужны ли нам слова которые встретились только один раз?\n",
    "Преобразуйте функцию предобработки таким образом, что бы в ней, кроме всего прочего, формировался словарь и удалялись слишком редкие слова.\n",
    "Преобразуйте таблицу с данными, так чтобы в ней содержались новые предобработанные тексты (далее мы будем работать только с ними).\n",
    "Сформируйте словарь. Каков размер словаря теперь?"
   ]
  },
  {
   "cell_type": "code",
   "execution_count": 20,
   "metadata": {},
   "outputs": [
    {
     "data": {
      "text/plain": [
       "3687"
      ]
     },
     "execution_count": 20,
     "metadata": {},
     "output_type": "execute_result"
    }
   ],
   "source": [
    "pr = 0\n",
    "for i in dct_stw.values():\n",
    "    if i == 1:\n",
    "        #print (i)\n",
    "        pr += 1\n",
    "pr"
   ]
  },
  {
   "cell_type": "code",
   "execution_count": 21,
   "metadata": {},
   "outputs": [
    {
     "data": {
      "text/plain": [
       "50.0"
      ]
     },
     "execution_count": 21,
     "metadata": {},
     "output_type": "execute_result"
    }
   ],
   "source": [
    "procent = pr // (len(dct_stw) / 100)\n",
    "procent"
   ]
  },
  {
   "cell_type": "markdown",
   "metadata": {},
   "source": [
    "У меня получилось удалить слова встречающиеся один раз из словаря, но как вернуть их в датасет по строкам идей пока нет. "
   ]
  },
  {
   "cell_type": "code",
   "execution_count": 46,
   "metadata": {},
   "outputs": [
    {
     "data": {
      "text/plain": [
       "3764"
      ]
     },
     "execution_count": 46,
     "metadata": {},
     "output_type": "execute_result"
    }
   ],
   "source": [
    "def make_dict(text):\n",
    "    dct = {}\n",
    "    for i in text:\n",
    "        for d in i.split():\n",
    "            if d not in dct:\n",
    "                dct[d] = 1\n",
    "            else: dct[d] += 1\n",
    "    for i in dct:\n",
    "        if dct[i] == 1:\n",
    "            dct[i] = []\n",
    "    dct = { k : v for k,v in dct.items() if v}\n",
    "    return dct\n",
    "        \n",
    "my_dct1 = make_dict(df_predpr['text'])\n",
    "len(my_dct1)"
   ]
  }
 ],
 "metadata": {
  "kernelspec": {
   "display_name": "Python 3",
   "language": "python",
   "name": "python3"
  },
  "language_info": {
   "codemirror_mode": {
    "name": "ipython",
    "version": 3
   },
   "file_extension": ".py",
   "mimetype": "text/x-python",
   "name": "python",
   "nbconvert_exporter": "python",
   "pygments_lexer": "ipython3",
   "version": "3.5.4"
  }
 },
 "nbformat": 4,
 "nbformat_minor": 2
}
