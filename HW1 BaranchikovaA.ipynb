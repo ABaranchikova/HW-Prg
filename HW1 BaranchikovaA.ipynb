{
 "cells": [
  {
   "cell_type": "markdown",
   "metadata": {},
   "source": [
    "Задача 1"
   ]
  },
  {
   "cell_type": "code",
   "execution_count": 1,
   "metadata": {},
   "outputs": [
    {
     "name": "stdout",
     "output_type": "stream",
     "text": [
      "152306059688877178546937602051034186326923521435051796008683776668495932501540983181226413470429951285957678676158444927401030932176125903419424850775906673575648393922300520881171025393368419750265852622353944565373629072078124904199590876179327103627454454616378729582129130004709641881279837154632554964667383830092180135105219692886380347205637655474718388930602231140205729743891480857256642756\n"
     ]
    }
   ],
   "source": [
    "monty = ('1234' * 50)\n",
    "python = int(monty) ** 2\n",
    "print (python)"
   ]
  },
  {
   "cell_type": "markdown",
   "metadata": {},
   "source": [
    "Задача 2"
   ]
  },
  {
   "cell_type": "code",
   "execution_count": 3,
   "metadata": {
    "collapsed": true
   },
   "outputs": [],
   "source": [
    "''' В range 1 это номер элемента в списке натуральных чисел, а не сам элемент  1. \n",
    "Мы просим функцию взять с 1(второго) элемента, потому что 0(первый) элемент это ноль. \n",
    "А факториал нуля нас не интересует. И пройти до элемента n+1, то есть до элемента, которыя будет равен введенному n '''\n",
    "\n",
    "def count_factorial(n):\n",
    "    factorial_n = 1\n",
    "    summ_of_factorials = 0\n",
    "    for i in range(1, n+1):\n",
    "        factorial_n = i * factorial_n\n",
    "        summ_of_factorials = factorial_n + summ_of_factorials\n",
    "    return summ_of_factorials\n",
    "\n",
    "assert count_factorial(1) == 1\n",
    "assert count_factorial(3) == 9\n",
    "assert count_factorial(4) == 33\n",
    "assert count_factorial(5) == 153"
   ]
  },
  {
   "cell_type": "markdown",
   "metadata": {},
   "source": [
    "Задача 3"
   ]
  },
  {
   "cell_type": "code",
   "execution_count": 20,
   "metadata": {},
   "outputs": [
    {
     "name": "stdout",
     "output_type": "stream",
     "text": [
      "Введите список числе через запятую: -1, -2, -1, 1, 2, 3, 4\n"
     ]
    },
    {
     "data": {
      "text/plain": [
       "-1.3333333333333333"
      ]
     },
     "execution_count": 20,
     "metadata": {},
     "output_type": "execute_result"
    }
   ],
   "source": [
    "#Вариант решения 1 (без assert)\n",
    "\n",
    "'''мы получаем от пользователя список элементов И делаем из них список\n",
    "мы делаем пустой список и проверям каждый элемент из списка пользователя на отрицательность. \n",
    "Если да, то пихаем его в на список.\n",
    "Из полученного элемента мы считаем длину списка, а затем складывем каждый элемент и делим на длину'''\n",
    "def choose_minus():\n",
    "    inp = input('Введите список числе через запятую: ')\n",
    "    inp = inp.split(',')\n",
    "    your_list = []\n",
    "    for i in inp:\n",
    "        i = int(i)\n",
    "        your_list.append(i)\n",
    "\n",
    "    minus_list = []\n",
    "    for i in your_list:\n",
    "        if i < 0:\n",
    "            minus_list.append(i)\n",
    "    lenght = len(minus_list)\n",
    "    summ = 0\n",
    "    for i in minus_list:\n",
    "        summ += i\n",
    "    return (summ / lenght)\n",
    "\n",
    "choose_minus()"
   ]
  },
  {
   "cell_type": "code",
   "execution_count": 21,
   "metadata": {},
   "outputs": [],
   "source": [
    "#Вариант решения 2\n",
    "\n",
    "def choose_minus1(A):\n",
    "    #A = []\n",
    "    your_list = []\n",
    "    for i in A:\n",
    "        i = int(i)\n",
    "        your_list.append(i)\n",
    "\n",
    "    minus_list = []\n",
    "    for i in your_list:\n",
    "        if i < 0:\n",
    "            minus_list.append(i)\n",
    "    lenght = len(minus_list)\n",
    "    summ = 0\n",
    "    for i in minus_list:\n",
    "        summ += i\n",
    "    return (summ / lenght) \n",
    "\n",
    "A = [2, -2, -3, -4]\n",
    "assert choose_minus1(A) == -3.0\n",
    "B = [-5, 6, 7, -12]\n",
    "assert choose_minus1(B) == -8.5\n",
    "C = [-1, -1, -2, 3, 6, 7, 8, -12]\n",
    "assert choose_minus1(C) == -4.0"
   ]
  },
  {
   "cell_type": "markdown",
   "metadata": {},
   "source": [
    "Задача 4"
   ]
  },
  {
   "cell_type": "code",
   "execution_count": 24,
   "metadata": {
    "collapsed": true
   },
   "outputs": [],
   "source": [
    "import math\n",
    "from math import sqrt\n",
    "\n",
    "def function_3_1(point_1, point_2):\n",
    "    all_cordinates= zip(point_1,point_2)\n",
    "    distance = 0\n",
    "    one_coordinate = 0\n",
    "    for i in all_cordinates:\n",
    "        one_coordinate = (i[0] - i[1])**2\n",
    "        distance += one_coordinate\n",
    "    return sqrt(distance)\n",
    "\n",
    "assert function_3_1((1, 2, 3), (3, 2, 1)) == 2.8284271247461903\n",
    "assert function_3_1((12, 0, 0), (0, 0, 12))== 16.97056274847714\n",
    "assert function_3_1((4, 3, 2), (0, 0, 2))== 5"
   ]
  },
  {
   "cell_type": "markdown",
   "metadata": {},
   "source": [
    "Задача 7"
   ]
  },
  {
   "cell_type": "code",
   "execution_count": 28,
   "metadata": {},
   "outputs": [],
   "source": [
    "def function_6(S, w):\n",
    "    m = S.find(w)\n",
    "    p = S.rfind(w)\n",
    "    S1 = S[(m+1):p]  \n",
    "    new_string = S1[::-1]\n",
    "    return S[:(m+1)] + new_string + S[p:]\n",
    "\n",
    "assert function_6('abcdefgefg', 'e') == 'abcdegfefg'\n",
    "assert function_6('qwertyqwerty', 'y') == 'qwertytrewqy'\n",
    "assert function_6('asdfgasdfg', 'g') == 'asdfgfdsag'"
   ]
  },
  {
   "cell_type": "code",
   "execution_count": null,
   "metadata": {
    "collapsed": true
   },
   "outputs": [],
   "source": []
  }
 ],
 "metadata": {
  "kernelspec": {
   "display_name": "Python 3",
   "language": "python",
   "name": "python3"
  },
  "language_info": {
   "codemirror_mode": {
    "name": "ipython",
    "version": 3
   },
   "file_extension": ".py",
   "mimetype": "text/x-python",
   "name": "python",
   "nbconvert_exporter": "python",
   "pygments_lexer": "ipython3",
   "version": "3.5.4"
  }
 },
 "nbformat": 4,
 "nbformat_minor": 2
}
